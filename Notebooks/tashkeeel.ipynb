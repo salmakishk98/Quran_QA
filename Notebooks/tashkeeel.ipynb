{
  "nbformat": 4,
  "nbformat_minor": 0,
  "metadata": {
    "colab": {
      "provenance": []
    },
    "kernelspec": {
      "name": "python3",
      "display_name": "Python 3"
    },
    "language_info": {
      "name": "python"
    }
  },
  "cells": [
    {
      "cell_type": "code",
      "source": [
        "!pip install mishkal"
      ],
      "metadata": {
        "colab": {
          "base_uri": "https://localhost:8080/",
          "height": 451
        },
        "id": "K9ygF7kOvGoR",
        "outputId": "625cb858-9fb4-4b51-a17f-0a6c5453f682"
      },
      "execution_count": 5,
      "outputs": [
        {
          "output_type": "stream",
          "name": "stdout",
          "text": [
            "Collecting mishkal\n",
            "  Downloading mishkal-0.4.1-py3-none-any.whl (789 kB)\n",
            "\u001b[?25l     \u001b[90m━━━━━━━━━━━━━━━━━━━━━━━━━━━━━━━━━━━━━━━━\u001b[0m \u001b[32m0.0/789.5 kB\u001b[0m \u001b[31m?\u001b[0m eta \u001b[36m-:--:--\u001b[0m\r\u001b[2K     \u001b[90m━━━━━━━━━━━━━━━━━━━━━━━━━━━━━━━━━━━━━━\u001b[0m \u001b[32m789.5/789.5 kB\u001b[0m \u001b[31m34.6 MB/s\u001b[0m eta \u001b[36m0:00:00\u001b[0m\n",
            "\u001b[?25hRequirement already satisfied: alyahmor>=0.1 in /usr/local/lib/python3.10/dist-packages (from mishkal) (0.2)\n",
            "Requirement already satisfied: arramooz-pysqlite>=0.1 in /usr/local/lib/python3.10/dist-packages (from mishkal) (0.4.1)\n",
            "Requirement already satisfied: asmai>=0.1 in /usr/local/lib/python3.10/dist-packages (from mishkal) (0.1)\n",
            "Requirement already satisfied: libqutrub>=1.0 in /usr/local/lib/python3.10/dist-packages (from mishkal) (1.2.4.1)\n",
            "Requirement already satisfied: maskouk-pysqlite>=0.1 in /usr/local/lib/python3.10/dist-packages (from mishkal) (0.1)\n",
            "Requirement already satisfied: mysam-tagmanager>=0.1 in /usr/local/lib/python3.10/dist-packages (from mishkal) (0.3.3)\n",
            "Requirement already satisfied: naftawayh>=0.2 in /usr/local/lib/python3.10/dist-packages (from mishkal) (0.4)\n",
            "Requirement already satisfied: pickledb>=0.9.0 in /usr/local/lib/python3.10/dist-packages (from mishkal) (0.9.2)\n",
            "Requirement already satisfied: pyarabic>=0.6.2 in /usr/local/lib/python3.10/dist-packages (from mishkal) (0.6.15)\n",
            "Requirement already satisfied: qalsadi>=0.2 in /usr/local/lib/python3.10/dist-packages (from mishkal) (0.4.6)\n",
            "Requirement already satisfied: sylajone>=0.1 in /usr/local/lib/python3.10/dist-packages (from mishkal) (0.3.1)\n",
            "Requirement already satisfied: tashaphyne>=0.3.1 in /usr/local/lib/python3.10/dist-packages (from mishkal) (0.3.6)\n",
            "Requirement already satisfied: Arabic-Stopwords>=0.4.2 in /usr/local/lib/python3.10/dist-packages (from alyahmor>=0.1->mishkal) (0.4.3)\n",
            "Requirement already satisfied: six>=1.14.0 in /usr/local/lib/python3.10/dist-packages (from pyarabic>=0.6.2->mishkal) (1.16.0)\n",
            "Requirement already satisfied: future>=0.16.0 in /usr/local/lib/python3.10/dist-packages (from qalsadi>=0.2->mishkal) (0.18.3)\n",
            "Installing collected packages: mishkal\n",
            "Successfully installed mishkal-0.4.1\n"
          ]
        },
        {
          "output_type": "display_data",
          "data": {
            "application/vnd.colab-display-data+json": {
              "pip_warning": {
                "packages": [
                  "mishkal"
                ]
              }
            }
          },
          "metadata": {}
        }
      ]
    },
    {
      "cell_type": "code",
      "source": [
        "!git clone https://github.com/linuxscout/mishkal.git"
      ],
      "metadata": {
        "colab": {
          "base_uri": "https://localhost:8080/"
        },
        "id": "C7ksNpLUf25R",
        "outputId": "1db10bc5-8198-46d9-9989-7fbfca299a88"
      },
      "execution_count": 1,
      "outputs": [
        {
          "output_type": "stream",
          "name": "stdout",
          "text": [
            "fatal: destination path 'mishkal' already exists and is not an empty directory.\n"
          ]
        }
      ]
    },
    {
      "cell_type": "code",
      "source": [
        "!pip install -r mishkal/requirements.txt"
      ],
      "metadata": {
        "colab": {
          "base_uri": "https://localhost:8080/"
        },
        "id": "QghvnzkVf9v-",
        "outputId": "53aeb77e-4338-4a23-9a80-e25ab3c91681"
      },
      "execution_count": 2,
      "outputs": [
        {
          "output_type": "stream",
          "name": "stdout",
          "text": [
            "Requirement already satisfied: pyarabic>=0.6.2 in /usr/local/lib/python3.10/dist-packages (from -r mishkal/requirements.txt (line 1)) (0.6.15)\n",
            "Requirement already satisfied: libqutrub>=1.0 in /usr/local/lib/python3.10/dist-packages (from -r mishkal/requirements.txt (line 2)) (1.2.4.1)\n",
            "Requirement already satisfied: naftawayh>=0.2 in /usr/local/lib/python3.10/dist-packages (from -r mishkal/requirements.txt (line 3)) (0.4)\n",
            "Requirement already satisfied: tashaphyne>=0.3.1 in /usr/local/lib/python3.10/dist-packages (from -r mishkal/requirements.txt (line 4)) (0.3.6)\n",
            "Requirement already satisfied: arramooz-pysqlite>=0.1 in /usr/local/lib/python3.10/dist-packages (from -r mishkal/requirements.txt (line 5)) (0.4.1)\n",
            "Requirement already satisfied: qalsadi>=0.2 in /usr/local/lib/python3.10/dist-packages (from -r mishkal/requirements.txt (line 6)) (0.4.6)\n",
            "Requirement already satisfied: mysam-tagmanager>=0.3.3 in /usr/local/lib/python3.10/dist-packages (from -r mishkal/requirements.txt (line 7)) (0.3.3)\n",
            "Requirement already satisfied: alyahmor>=0.1 in /usr/local/lib/python3.10/dist-packages (from -r mishkal/requirements.txt (line 8)) (0.2)\n",
            "Requirement already satisfied: asmai>=0.1 in /usr/local/lib/python3.10/dist-packages (from -r mishkal/requirements.txt (line 9)) (0.1)\n",
            "Requirement already satisfied: sylajone>=0.1 in /usr/local/lib/python3.10/dist-packages (from -r mishkal/requirements.txt (line 10)) (0.3.1)\n",
            "Requirement already satisfied: maskouk-pysqlite>=0.1 in /usr/local/lib/python3.10/dist-packages (from -r mishkal/requirements.txt (line 11)) (0.1)\n",
            "Requirement already satisfied: pickledb>=0.9.0 in /usr/local/lib/python3.10/dist-packages (from -r mishkal/requirements.txt (line 12)) (0.9.2)\n",
            "Requirement already satisfied: codernitydb3==0.6.0 in /usr/local/lib/python3.10/dist-packages (from -r mishkal/requirements.txt (line 13)) (0.6.0)\n",
            "Requirement already satisfied: six>=1.14.0 in /usr/local/lib/python3.10/dist-packages (from pyarabic>=0.6.2->-r mishkal/requirements.txt (line 1)) (1.16.0)\n",
            "Requirement already satisfied: Arabic-Stopwords>=0.3 in /usr/local/lib/python3.10/dist-packages (from qalsadi>=0.2->-r mishkal/requirements.txt (line 6)) (0.4.3)\n",
            "Requirement already satisfied: future>=0.16.0 in /usr/local/lib/python3.10/dist-packages (from qalsadi>=0.2->-r mishkal/requirements.txt (line 6)) (0.18.3)\n"
          ]
        }
      ]
    },
    {
      "cell_type": "code",
      "source": [
        "import mishkal.tashkeel"
      ],
      "metadata": {
        "id": "Dtq4APz0gHuv"
      },
      "execution_count": 3,
      "outputs": []
    },
    {
      "cell_type": "code",
      "source": [
        "def shkl (text):\n",
        "  vocalizer = mishkal.tashkeel.TashkeelClass()\n",
        "  text_after=vocalizer.tashkeel(text)\n",
        "  return text_after"
      ],
      "metadata": {
        "id": "LlIBmgRNtoc4"
      },
      "execution_count": 4,
      "outputs": []
    },
    {
      "cell_type": "code",
      "source": [
        "shkl (\"الله رب العالمين\")"
      ],
      "metadata": {
        "colab": {
          "base_uri": "https://localhost:8080/",
          "height": 35
        },
        "id": "brXZtPdet8f_",
        "outputId": "4032b42c-03fd-4491-cc71-ca215cb435e1"
      },
      "execution_count": 5,
      "outputs": [
        {
          "output_type": "execute_result",
          "data": {
            "text/plain": [
              "' اللهُ رَبِّ الْعَالَمِينَ'"
            ],
            "application/vnd.google.colaboratory.intrinsic+json": {
              "type": "string"
            }
          },
          "metadata": {},
          "execution_count": 5
        }
      ]
    },
    {
      "cell_type": "code",
      "source": [],
      "metadata": {
        "id": "WuyTnWcNuCs4"
      },
      "execution_count": null,
      "outputs": []
    }
  ]
}