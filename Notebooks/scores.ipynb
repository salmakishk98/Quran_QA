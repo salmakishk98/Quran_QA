{
 "cells": [
  {
   "cell_type": "code",
   "execution_count": 29,
   "metadata": {},
   "outputs": [],
   "source": [
    "import pandas as pd \n",
    "import matplotlib.pyplot as plt\n"
   ]
  },
  {
   "cell_type": "code",
   "execution_count": 30,
   "metadata": {},
   "outputs": [],
   "source": [
    "scores=pd.read_json(\"all_scores.json\").T"
   ]
  },
  {
   "cell_type": "code",
   "execution_count": 31,
   "metadata": {},
   "outputs": [
    {
     "data": {
      "text/html": [
       "<div>\n",
       "<style scoped>\n",
       "    .dataframe tbody tr th:only-of-type {\n",
       "        vertical-align: middle;\n",
       "    }\n",
       "\n",
       "    .dataframe tbody tr th {\n",
       "        vertical-align: top;\n",
       "    }\n",
       "\n",
       "    .dataframe thead th {\n",
       "        text-align: right;\n",
       "    }\n",
       "</style>\n",
       "<table border=\"1\" class=\"dataframe\">\n",
       "  <thead>\n",
       "    <tr style=\"text-align: right;\">\n",
       "      <th></th>\n",
       "      <th>pRR</th>\n",
       "      <th>exact_match</th>\n",
       "      <th>f1</th>\n",
       "    </tr>\n",
       "  </thead>\n",
       "  <tbody>\n",
       "    <tr>\n",
       "      <th>ZeyadAhmed/AraElectra-Arabic-SQuADv2-QA</th>\n",
       "      <td>0.040537</td>\n",
       "      <td>0.012210</td>\n",
       "      <td>0.036403</td>\n",
       "    </tr>\n",
       "    <tr>\n",
       "      <th>timpal0l/mdeberta-v3-base-squad2</th>\n",
       "      <td>0.022572</td>\n",
       "      <td>0.006105</td>\n",
       "      <td>0.009886</td>\n",
       "    </tr>\n",
       "    <tr>\n",
       "      <th>wissamantoun/araelectra-base-artydiqa</th>\n",
       "      <td>0.042764</td>\n",
       "      <td>0.012210</td>\n",
       "      <td>0.038196</td>\n",
       "    </tr>\n",
       "    <tr>\n",
       "      <th>gfdgdfgdg/arap_qa_bert</th>\n",
       "      <td>0.008807</td>\n",
       "      <td>0.000000</td>\n",
       "      <td>0.001148</td>\n",
       "    </tr>\n",
       "    <tr>\n",
       "      <th>salti/AraElectra-base-finetuned-ARCD</th>\n",
       "      <td>0.034969</td>\n",
       "      <td>0.003663</td>\n",
       "      <td>0.031655</td>\n",
       "    </tr>\n",
       "  </tbody>\n",
       "</table>\n",
       "</div>"
      ],
      "text/plain": [
       "                                              pRR  exact_match        f1\n",
       "ZeyadAhmed/AraElectra-Arabic-SQuADv2-QA  0.040537     0.012210  0.036403\n",
       "timpal0l/mdeberta-v3-base-squad2         0.022572     0.006105  0.009886\n",
       "wissamantoun/araelectra-base-artydiqa    0.042764     0.012210  0.038196\n",
       "gfdgdfgdg/arap_qa_bert                   0.008807     0.000000  0.001148\n",
       "salti/AraElectra-base-finetuned-ARCD     0.034969     0.003663  0.031655"
      ]
     },
     "execution_count": 31,
     "metadata": {},
     "output_type": "execute_result"
    }
   ],
   "source": [
    "scores.head()"
   ]
  },
  {
   "cell_type": "code",
   "execution_count": 32,
   "metadata": {},
   "outputs": [],
   "source": [
    "scores=scores.reset_index()\n",
    "scores=scores.rename(columns={'index': 'model'})"
   ]
  },
  {
   "cell_type": "code",
   "execution_count": 33,
   "metadata": {},
   "outputs": [
    {
     "data": {
      "text/html": [
       "<div>\n",
       "<style scoped>\n",
       "    .dataframe tbody tr th:only-of-type {\n",
       "        vertical-align: middle;\n",
       "    }\n",
       "\n",
       "    .dataframe tbody tr th {\n",
       "        vertical-align: top;\n",
       "    }\n",
       "\n",
       "    .dataframe thead th {\n",
       "        text-align: right;\n",
       "    }\n",
       "</style>\n",
       "<table border=\"1\" class=\"dataframe\">\n",
       "  <thead>\n",
       "    <tr style=\"text-align: right;\">\n",
       "      <th></th>\n",
       "      <th>model</th>\n",
       "      <th>pRR</th>\n",
       "      <th>exact_match</th>\n",
       "      <th>f1</th>\n",
       "    </tr>\n",
       "  </thead>\n",
       "  <tbody>\n",
       "    <tr>\n",
       "      <th>0</th>\n",
       "      <td>ZeyadAhmed/AraElectra-Arabic-SQuADv2-QA</td>\n",
       "      <td>0.040537</td>\n",
       "      <td>0.012210</td>\n",
       "      <td>0.036403</td>\n",
       "    </tr>\n",
       "    <tr>\n",
       "      <th>1</th>\n",
       "      <td>timpal0l/mdeberta-v3-base-squad2</td>\n",
       "      <td>0.022572</td>\n",
       "      <td>0.006105</td>\n",
       "      <td>0.009886</td>\n",
       "    </tr>\n",
       "    <tr>\n",
       "      <th>2</th>\n",
       "      <td>wissamantoun/araelectra-base-artydiqa</td>\n",
       "      <td>0.042764</td>\n",
       "      <td>0.012210</td>\n",
       "      <td>0.038196</td>\n",
       "    </tr>\n",
       "    <tr>\n",
       "      <th>3</th>\n",
       "      <td>gfdgdfgdg/arap_qa_bert</td>\n",
       "      <td>0.008807</td>\n",
       "      <td>0.000000</td>\n",
       "      <td>0.001148</td>\n",
       "    </tr>\n",
       "    <tr>\n",
       "      <th>4</th>\n",
       "      <td>salti/AraElectra-base-finetuned-ARCD</td>\n",
       "      <td>0.034969</td>\n",
       "      <td>0.003663</td>\n",
       "      <td>0.031655</td>\n",
       "    </tr>\n",
       "  </tbody>\n",
       "</table>\n",
       "</div>"
      ],
      "text/plain": [
       "                                     model       pRR  exact_match        f1\n",
       "0  ZeyadAhmed/AraElectra-Arabic-SQuADv2-QA  0.040537     0.012210  0.036403\n",
       "1         timpal0l/mdeberta-v3-base-squad2  0.022572     0.006105  0.009886\n",
       "2    wissamantoun/araelectra-base-artydiqa  0.042764     0.012210  0.038196\n",
       "3                   gfdgdfgdg/arap_qa_bert  0.008807     0.000000  0.001148\n",
       "4     salti/AraElectra-base-finetuned-ARCD  0.034969     0.003663  0.031655"
      ]
     },
     "execution_count": 33,
     "metadata": {},
     "output_type": "execute_result"
    }
   ],
   "source": [
    "scores.head()"
   ]
  },
  {
   "cell_type": "code",
   "execution_count": 34,
   "metadata": {},
   "outputs": [],
   "source": [
    "scores['model']=scores['model'].str.split('/').str[1]"
   ]
  },
  {
   "cell_type": "code",
   "execution_count": 35,
   "metadata": {},
   "outputs": [
    {
     "data": {
      "text/html": [
       "<div>\n",
       "<style scoped>\n",
       "    .dataframe tbody tr th:only-of-type {\n",
       "        vertical-align: middle;\n",
       "    }\n",
       "\n",
       "    .dataframe tbody tr th {\n",
       "        vertical-align: top;\n",
       "    }\n",
       "\n",
       "    .dataframe thead th {\n",
       "        text-align: right;\n",
       "    }\n",
       "</style>\n",
       "<table border=\"1\" class=\"dataframe\">\n",
       "  <thead>\n",
       "    <tr style=\"text-align: right;\">\n",
       "      <th></th>\n",
       "      <th>model</th>\n",
       "      <th>pRR</th>\n",
       "      <th>exact_match</th>\n",
       "      <th>f1</th>\n",
       "    </tr>\n",
       "  </thead>\n",
       "  <tbody>\n",
       "    <tr>\n",
       "      <th>0</th>\n",
       "      <td>AraElectra-Arabic-SQuADv2-QA</td>\n",
       "      <td>0.040537</td>\n",
       "      <td>0.012210</td>\n",
       "      <td>0.036403</td>\n",
       "    </tr>\n",
       "    <tr>\n",
       "      <th>1</th>\n",
       "      <td>mdeberta-v3-base-squad2</td>\n",
       "      <td>0.022572</td>\n",
       "      <td>0.006105</td>\n",
       "      <td>0.009886</td>\n",
       "    </tr>\n",
       "    <tr>\n",
       "      <th>2</th>\n",
       "      <td>araelectra-base-artydiqa</td>\n",
       "      <td>0.042764</td>\n",
       "      <td>0.012210</td>\n",
       "      <td>0.038196</td>\n",
       "    </tr>\n",
       "    <tr>\n",
       "      <th>3</th>\n",
       "      <td>arap_qa_bert</td>\n",
       "      <td>0.008807</td>\n",
       "      <td>0.000000</td>\n",
       "      <td>0.001148</td>\n",
       "    </tr>\n",
       "    <tr>\n",
       "      <th>4</th>\n",
       "      <td>AraElectra-base-finetuned-ARCD</td>\n",
       "      <td>0.034969</td>\n",
       "      <td>0.003663</td>\n",
       "      <td>0.031655</td>\n",
       "    </tr>\n",
       "    <tr>\n",
       "      <th>5</th>\n",
       "      <td>Bert_Arabic-SQuADv2-QA</td>\n",
       "      <td>0.040537</td>\n",
       "      <td>0.012210</td>\n",
       "      <td>0.036403</td>\n",
       "    </tr>\n",
       "    <tr>\n",
       "      <th>6</th>\n",
       "      <td>arap_qa_bert_large_v2</td>\n",
       "      <td>0.028610</td>\n",
       "      <td>0.010989</td>\n",
       "      <td>0.023576</td>\n",
       "    </tr>\n",
       "    <tr>\n",
       "      <th>7</th>\n",
       "      <td>AraELECTRA-discriminator-QuranQA</td>\n",
       "      <td>0.072165</td>\n",
       "      <td>0.042735</td>\n",
       "      <td>0.068836</td>\n",
       "    </tr>\n",
       "    <tr>\n",
       "      <th>8</th>\n",
       "      <td>AraELECTRA-discriminator-SOQAL</td>\n",
       "      <td>0.029376</td>\n",
       "      <td>0.006105</td>\n",
       "      <td>0.020262</td>\n",
       "    </tr>\n",
       "    <tr>\n",
       "      <th>9</th>\n",
       "      <td>mdeberta_Quran_qa</td>\n",
       "      <td>0.057638</td>\n",
       "      <td>0.020757</td>\n",
       "      <td>0.052187</td>\n",
       "    </tr>\n",
       "  </tbody>\n",
       "</table>\n",
       "</div>"
      ],
      "text/plain": [
       "                              model       pRR  exact_match        f1\n",
       "0      AraElectra-Arabic-SQuADv2-QA  0.040537     0.012210  0.036403\n",
       "1           mdeberta-v3-base-squad2  0.022572     0.006105  0.009886\n",
       "2          araelectra-base-artydiqa  0.042764     0.012210  0.038196\n",
       "3                      arap_qa_bert  0.008807     0.000000  0.001148\n",
       "4    AraElectra-base-finetuned-ARCD  0.034969     0.003663  0.031655\n",
       "5            Bert_Arabic-SQuADv2-QA  0.040537     0.012210  0.036403\n",
       "6             arap_qa_bert_large_v2  0.028610     0.010989  0.023576\n",
       "7  AraELECTRA-discriminator-QuranQA  0.072165     0.042735  0.068836\n",
       "8    AraELECTRA-discriminator-SOQAL  0.029376     0.006105  0.020262\n",
       "9                 mdeberta_Quran_qa  0.057638     0.020757  0.052187"
      ]
     },
     "execution_count": 35,
     "metadata": {},
     "output_type": "execute_result"
    }
   ],
   "source": [
    "scores"
   ]
  },
  {
   "cell_type": "code",
   "execution_count": 36,
   "metadata": {},
   "outputs": [
    {
     "data": {
      "text/plain": [
       "array(['AraElectra-Arabic-SQuADv2-QA', 'mdeberta-v3-base-squad2',\n",
       "       'araelectra-base-artydiqa', 'arap_qa_bert',\n",
       "       'AraElectra-base-finetuned-ARCD', 'Bert_Arabic-SQuADv2-QA',\n",
       "       'arap_qa_bert_large_v2', 'AraELECTRA-discriminator-QuranQA',\n",
       "       'AraELECTRA-discriminator-SOQAL', 'mdeberta_Quran_qa'],\n",
       "      dtype=object)"
      ]
     },
     "execution_count": 36,
     "metadata": {},
     "output_type": "execute_result"
    }
   ],
   "source": [
    "scores['model'].values"
   ]
  },
  {
   "cell_type": "code",
   "execution_count": 37,
   "metadata": {},
   "outputs": [
    {
     "data": {
      "text/plain": [
       "Index(['model', 'pRR', 'exact_match', 'f1'], dtype='object')"
      ]
     },
     "execution_count": 37,
     "metadata": {},
     "output_type": "execute_result"
    }
   ],
   "source": [
    "scores.columns"
   ]
  },
  {
   "cell_type": "code",
   "execution_count": 38,
   "metadata": {},
   "outputs": [
    {
     "data": {
      "image/png": "[encoded data removed]",
      "text/plain": [
       "<Figure size 640x480 with 1 Axes>"
      ]
     },
     "metadata": {},
     "output_type": "display_data"
    }
   ],
   "source": [
    "\n",
    "\n",
    "\n",
    "scores.plot.barh(x='model', y=[ 'pRR', 'exact_match', 'f1'], rot=0)\n",
    "\n",
    "# Set the plot title and axis labels\n",
    "plt.title('Scores by model')\n",
    "plt.xlabel('Scores')\n",
    "plt.ylabel('Model')\n",
    "\n",
    "# Display the plot\n",
    "plt.show()"
   ]
  },
  {
   "cell_type": "code",
   "execution_count": null,
   "metadata": {},
   "outputs": [],
   "source": []
  }
 ],
 "metadata": {
  "kernelspec": {
   "display_name": "base",
   "language": "python",
   "name": "python3"
  },
  "language_info": {
   "codemirror_mode": {
    "name": "ipython",
    "version": 3
   },
   "file_extension": ".py",
   "mimetype": "text/x-python",
   "name": "python",
   "nbconvert_exporter": "python",
   "pygments_lexer": "ipython3",
   "version": "3.9.7"
  },
  "orig_nbformat": 4
 },
 "nbformat": 4,
 "nbformat_minor": 2
}
